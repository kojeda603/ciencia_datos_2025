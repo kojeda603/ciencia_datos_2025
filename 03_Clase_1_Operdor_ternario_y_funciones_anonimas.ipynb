{
  "nbformat": 4,
  "nbformat_minor": 0,
  "metadata": {
    "colab": {
      "provenance": [],
      "authorship_tag": "ABX9TyNvr3Zjm54bf8O8ZB1bJ1fh",
      "include_colab_link": true
    },
    "kernelspec": {
      "name": "python3",
      "display_name": "Python 3"
    },
    "language_info": {
      "name": "python"
    }
  },
  "cells": [
    {
      "cell_type": "markdown",
      "metadata": {
        "id": "view-in-github",
        "colab_type": "text"
      },
      "source": [
        "<a href=\"https://colab.research.google.com/github/kojeda603/ciencia_datos_2025/blob/main/03_Clase_1_Operdor_ternario_y_funciones_anonimas.ipynb\" target=\"_parent\"><img src=\"https://colab.research.google.com/assets/colab-badge.svg\" alt=\"Open In Colab\"/></a>"
      ]
    },
    {
      "cell_type": "markdown",
      "source": [
        "#Operador ternario\n",
        "Es otra forma de declarar la estructura\n",
        "\n",
        "Estructura condicional\n",
        "\n",
        "```\n",
        "if (condicion):\n",
        "  RTA si la condicion es verdara\n",
        "else\n",
        "  RTA si la condicion es falsa\n",
        "```\n",
        "Operador ternario\n",
        "\n",
        "\n",
        "```\n",
        "RTA si es verdadero if(condicion) esle\n",
        "RTA si es falso\n",
        "```\n",
        "\n",
        "\n",
        "\n",
        "\n"
      ],
      "metadata": {
        "id": "949odzKI08y9"
      }
    },
    {
      "cell_type": "code",
      "source": [
        "#Ejemplo\n",
        "#Conocer cual es el mayor de 2 numeros\n",
        "\n",
        "a=int(input(\"Ingrese el primer numero: \"))\n",
        "b=int(input(\"Ingrese el segundo numero: \"))\n",
        "\n",
        "if a>b:\n",
        "  print(f\"{a} es el mayor que {b}\")\n",
        "else:\n",
        "  print(f\"{b} es el mayor que {a}\")"
      ],
      "metadata": {
        "colab": {
          "base_uri": "https://localhost:8080/"
        },
        "id": "PTRtNLyL11dc",
        "outputId": "1245a555-6c83-4bc5-ec08-be0ea8b0383b"
      },
      "execution_count": null,
      "outputs": [
        {
          "output_type": "stream",
          "name": "stdout",
          "text": [
            "Ingrese el primer numero: 2\n",
            "Ingrese el segundo numero: 3\n",
            "3 es el mayor que 2\n"
          ]
        }
      ]
    },
    {
      "cell_type": "code",
      "source": [
        "#Operador ternario\n",
        "msg=f\"{a} es el mayor que {b}\" if a>b else print(f\"{b} es el mayor que {a}\")"
      ],
      "metadata": {
        "colab": {
          "base_uri": "https://localhost:8080/"
        },
        "id": "4DnU_72-2fcc",
        "outputId": "b91ec0ec-945e-4a8c-aa39-ae04bc1804c6"
      },
      "execution_count": null,
      "outputs": [
        {
          "output_type": "stream",
          "name": "stdout",
          "text": [
            "3 es el mayor que 2\n"
          ]
        }
      ]
    },
    {
      "cell_type": "markdown",
      "source": [
        "funcion\n",
        "\n",
        "```\n",
        "def nombre_funcion(parametros):\n",
        "  Se ejecuta\n",
        "\n",
        "nimbre_funcion\n",
        "```\n",
        "\n",
        "#TIPOS\n",
        "1. Sin parametro, sin retorno\n",
        "2. Sin parametro con retorno\n",
        "3. Con parametro, sin reotrno\n",
        "4. Con parametro, con retorno\n"
      ],
      "metadata": {
        "id": "DQj_BxZI4eWK"
      }
    },
    {
      "cell_type": "markdown",
      "source": [
        "1. Sin parametro, sin retorno\n",
        "Se emplea cuando no se requiere un almacenamiento en una variable local. No se requiere parametros para su uso"
      ],
      "metadata": {
        "id": "CV5umRS_5PAZ"
      }
    },
    {
      "cell_type": "code",
      "source": [
        "def saludo():\n",
        "  print(\"Hola mundo\")"
      ],
      "metadata": {
        "id": "lgY4F9jx5Oup"
      },
      "execution_count": null,
      "outputs": []
    },
    {
      "cell_type": "markdown",
      "source": [
        "2. Sin parametro con retorno\n",
        "Convertir una variable local en global"
      ],
      "metadata": {
        "id": "FF4I03RU5y3x"
      }
    },
    {
      "cell_type": "code",
      "source": [
        "def numero():\n",
        "  return 4+5\n",
        "\n",
        "c=numero()\n",
        "c"
      ],
      "metadata": {
        "colab": {
          "base_uri": "https://localhost:8080/"
        },
        "id": "8GyCB6ut3eVz",
        "outputId": "26290d13-bf7a-487d-cdaa-9bed53d2c7b6"
      },
      "execution_count": null,
      "outputs": [
        {
          "output_type": "execute_result",
          "data": {
            "text/plain": [
              "9"
            ]
          },
          "metadata": {},
          "execution_count": 14
        }
      ]
    },
    {
      "cell_type": "markdown",
      "source": [
        "#Con parametros, sin reotrno"
      ],
      "metadata": {
        "id": "A78C6wxN6-mg"
      }
    },
    {
      "cell_type": "code",
      "source": [
        "def cuadrado(a):\n",
        "  print(a**2)\n",
        "\n",
        "cuadrado(5)"
      ],
      "metadata": {
        "id": "mC0x7cPO7Oyv"
      },
      "execution_count": null,
      "outputs": []
    },
    {
      "cell_type": "markdown",
      "source": [
        "4. Con parametro, con retorno"
      ],
      "metadata": {
        "id": "cBVXNCG97h8P"
      }
    },
    {
      "cell_type": "code",
      "source": [
        "def cubo(b):\n",
        "  return b**3\n",
        "\n",
        "a = cubo(6)\n",
        "a"
      ],
      "metadata": {
        "colab": {
          "base_uri": "https://localhost:8080/"
        },
        "id": "gvfggop17mCo",
        "outputId": "1f58855f-7208-4861-eb03-fb736e05fada"
      },
      "execution_count": null,
      "outputs": [
        {
          "output_type": "execute_result",
          "data": {
            "text/plain": [
              "216"
            ]
          },
          "metadata": {},
          "execution_count": 2
        }
      ]
    },
    {
      "cell_type": "code",
      "source": [
        "def comparar(a,b):\n",
        "  return f\"{a} es el mayor que {b}\" if a>b else print(f\"{b} es el mayor que {a}\")"
      ],
      "metadata": {
        "id": "38YBhUXv72xg"
      },
      "execution_count": null,
      "outputs": []
    },
    {
      "cell_type": "code",
      "source": [
        "comparar(3,9)"
      ],
      "metadata": {
        "colab": {
          "base_uri": "https://localhost:8080/"
        },
        "id": "6t9ZKIYO8Baw",
        "outputId": "94055cf6-c2b9-40bc-c0f3-7da97aba9897"
      },
      "execution_count": null,
      "outputs": [
        {
          "output_type": "stream",
          "name": "stdout",
          "text": [
            "9 es el mayor que 3\n"
          ]
        }
      ]
    }
  ]
}