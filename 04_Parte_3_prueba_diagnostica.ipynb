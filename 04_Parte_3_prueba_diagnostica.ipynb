{
  "nbformat": 4,
  "nbformat_minor": 0,
  "metadata": {
    "colab": {
      "provenance": [],
      "authorship_tag": "ABX9TyNGYy1uqqkiGTak+p1Ps7CE",
      "include_colab_link": true
    },
    "kernelspec": {
      "name": "python3",
      "display_name": "Python 3"
    },
    "language_info": {
      "name": "python"
    }
  },
  "cells": [
    {
      "cell_type": "markdown",
      "metadata": {
        "id": "view-in-github",
        "colab_type": "text"
      },
      "source": [
        "<a href=\"https://colab.research.google.com/github/kojeda603/ciencia_datos_2025/blob/main/04_Parte_3_prueba_diagnostica.ipynb\" target=\"_parent\"><img src=\"https://colab.research.google.com/assets/colab-badge.svg\" alt=\"Open In Colab\"/></a>"
      ]
    },
    {
      "cell_type": "markdown",
      "source": [
        "## Parte 3: Funciones y Tipos de Datos (20 ejercicios)"
      ],
      "metadata": {
        "id": "2EYBccZZ9tCm"
      }
    },
    {
      "cell_type": "markdown",
      "source": [
        "1. Crea una función que reciba un número y retorne su cuadrado."
      ],
      "metadata": {
        "id": "tHgDMa-t9w6N"
      }
    },
    {
      "cell_type": "code",
      "source": [
        "num = int(input(\"Ingrese un número: \"))\n",
        "# def cuadrado(num):\n",
        "#     return num ** 2\n",
        "# cuadrado(num)\n",
        "\n",
        "cuadrado = lambda num: num ** 2\n",
        "cuadrado(num)"
      ],
      "metadata": {
        "colab": {
          "base_uri": "https://localhost:8080/"
        },
        "id": "9St65_vS9wi1",
        "outputId": "096e4441-6561-40cc-d7f0-cf761e74c620"
      },
      "execution_count": null,
      "outputs": [
        {
          "name": "stdout",
          "output_type": "stream",
          "text": [
            "Ingrese un número: 4\n"
          ]
        },
        {
          "output_type": "execute_result",
          "data": {
            "text/plain": [
              "16"
            ]
          },
          "metadata": {},
          "execution_count": 47
        }
      ]
    },
    {
      "cell_type": "markdown",
      "source": [
        "2. Crea una función que reciba un nombre y retorne un saludo personalizado (ese saludo debe ser aleatorio. Para ello, genere al menos 20 saludos)."
      ],
      "metadata": {
        "id": "zYlrREAv91YW"
      }
    },
    {
      "cell_type": "code",
      "source": [
        "import random\n",
        "\n",
        "saludos = [\n",
        "    \"¡Hola! ¿Cómo estás?\",\n",
        "    \"¡Buenos días!\",\n",
        "    \"¡Buenas tardes!\",\n",
        "    \"¡Buenas noches!\",\n",
        "    \"¡Qué gusto verte!\",\n",
        "    \"¡Hola de nuevo!\",\n",
        "    \"¡Saludos cordiales!\",\n",
        "    \"¡Hey! ¿Qué tal?\",\n",
        "    \"¡Hola, hola!\",\n",
        "    \"¡Un placer saludarte!\",\n",
        "    \"¡Qué alegría encontrarte por aquí!\",\n",
        "    \"¡Hola! Espero que tengas un gran día.\",\n",
        "    \"¡Saludos! ¿En qué puedo ayudarte?\",\n",
        "    \"¡Hola! ¿Todo bien?\",\n",
        "    \"¡Bienvenido!\",\n",
        "    \"¡Qué bueno verte!\",\n",
        "    \"¡Hola, amigo/a!\",\n",
        "    \"¡Saludos desde aquí!\",\n",
        "    \"¡Hola! ¿Listo para comenzar?\",\n",
        "    \"¡Hola! ¿Cómo te ha ido?\"\n",
        "]\n",
        "\n",
        "nombre = input(\"Ingrese su nombre: \")\n",
        "# def saludo(nombre):\n",
        "#     return f\" {random.choice(saludos)} {nombre}\"\n",
        "# saludo(nombre)\n",
        "\n",
        "lambda_saludo = lambda nombre: f\"{random.choice(saludos)} {nombre}\"\n",
        "lambda_saludo(nombre)"
      ],
      "metadata": {
        "colab": {
          "base_uri": "https://localhost:8080/",
          "height": 54
        },
        "id": "XITA2ols-3e1",
        "outputId": "1937be24-153e-4de2-8535-e91a9aa27943"
      },
      "execution_count": null,
      "outputs": [
        {
          "name": "stdout",
          "output_type": "stream",
          "text": [
            "Ingrese su nombre: a\n"
          ]
        },
        {
          "output_type": "execute_result",
          "data": {
            "text/plain": [
              "'¡Saludos cordiales! a'"
            ],
            "application/vnd.google.colaboratory.intrinsic+json": {
              "type": "string"
            }
          },
          "metadata": {},
          "execution_count": 49
        }
      ]
    },
    {
      "cell_type": "markdown",
      "source": [
        "3. Crea una función que reciba dos números y retorne su suma, resta, multiplicación y división."
      ],
      "metadata": {
        "id": "lP3LpVlf-6BM"
      }
    },
    {
      "cell_type": "code",
      "source": [
        "num1 = int(input(\"Ingrese el primer número: \"))\n",
        "num2 = int(input(\"Ingrese el segundo número: \"))\n",
        "\n",
        "# def operaciones(num1, num2):\n",
        "#     suma = num1 + num2\n",
        "#     resta = num1 - num2\n",
        "#     multiplicacion = num1 * num2\n",
        "#     division = num1 / num2\n",
        "#     return f\"La suma es {suma}, la resta es {resta}, la multiplicación es {multiplicacion} y la división es {division}\"\n",
        "\n",
        "# operaciones(num1, num2)\n",
        "\n",
        "operacion = lambda num1, num2: f\"La suma es {num1 + num2}, la resta es {num1 - num2}, la multiplicación es {num1 * num2} y la división es {num1 / num2}\"\n",
        "\n"
      ],
      "metadata": {
        "colab": {
          "base_uri": "https://localhost:8080/"
        },
        "id": "dwq3kzg6_fyk",
        "outputId": "433af361-a060-4618-e98c-48273b8183d3"
      },
      "execution_count": null,
      "outputs": [
        {
          "name": "stdout",
          "output_type": "stream",
          "text": [
            "Ingrese el primer número: 1\n",
            "Ingrese el segundo número: 2\n"
          ]
        }
      ]
    },
    {
      "cell_type": "markdown",
      "source": [
        "4. Crea una función que reciba una edad y retorne si es mayor de edad."
      ],
      "metadata": {
        "id": "UfvbtZ1i_eH0"
      }
    },
    {
      "cell_type": "code",
      "source": [
        "edad = int(input(\"Ingrese su edad: \"))\n",
        "# def mayor_edad(edad):\n",
        "#     if edad >= 18:\n",
        "#         return \"Eres mayor de edad\"\n",
        "#     else:\n",
        "#         return \"Eres menor de edad\"\n",
        "# mayor_edad(edad)\n",
        "\n",
        "mayor_edad = lambda edad: \"Eres mayor de edad\" if edad >= 18 else \"Eres menor de edad\"\n",
        "mayor_edad(edad)"
      ],
      "metadata": {
        "id": "vi0nnPCC_x9M",
        "colab": {
          "base_uri": "https://localhost:8080/",
          "height": 54
        },
        "outputId": "114f688f-6f4f-4b8c-d98a-eeecea641fcf"
      },
      "execution_count": null,
      "outputs": [
        {
          "name": "stdout",
          "output_type": "stream",
          "text": [
            "Ingrese su edad: 19\n"
          ]
        },
        {
          "output_type": "execute_result",
          "data": {
            "text/plain": [
              "'Eres mayor de edad'"
            ],
            "application/vnd.google.colaboratory.intrinsic+json": {
              "type": "string"
            }
          },
          "metadata": {},
          "execution_count": 51
        }
      ]
    },
    {
      "cell_type": "markdown",
      "source": [
        "5. Crea una función que reciba una palabra y determine si es un palíndromo."
      ],
      "metadata": {
        "id": "r6qfILCn_zBs"
      }
    },
    {
      "cell_type": "code",
      "execution_count": null,
      "metadata": {
        "colab": {
          "base_uri": "https://localhost:8080/",
          "height": 54
        },
        "id": "-IqTDv_F9CQV",
        "outputId": "b9fd209d-b84c-4e11-ee11-8a3b4ae6d534"
      },
      "outputs": [
        {
          "name": "stdout",
          "output_type": "stream",
          "text": [
            "Ingrese una palabra: oso\n"
          ]
        },
        {
          "output_type": "execute_result",
          "data": {
            "text/plain": [
              "'oso es un palíndromo'"
            ],
            "application/vnd.google.colaboratory.intrinsic+json": {
              "type": "string"
            }
          },
          "metadata": {},
          "execution_count": 52
        }
      ],
      "source": [
        "palabra = input(\"Ingrese una palabra: \")\n",
        "# def palindromo(palabra):\n",
        "#     if palabra == palabra[::-1]:\n",
        "#         return f\"{palabra} es un palíndromo\"\n",
        "#     else:\n",
        "#         return f\"{palabra} es un palíndromo\"\n",
        "# palindromo(palabra)\n",
        "\n",
        "palindromo = lambda palabra: f\"{palabra} es un palíndromo\" if palabra == palabra[::-1] else f\"{palabra} no es un palíndromo\"\n",
        "palindromo(palabra)"
      ]
    },
    {
      "cell_type": "markdown",
      "source": [
        "6. Crea una función que reciba un texto y retorne cuántas vocales contiene."
      ],
      "metadata": {
        "id": "OxPEjVYp__lz"
      }
    },
    {
      "cell_type": "code",
      "source": [
        "list_vocales = [\"a\", \"e\", \"i\", \"o\", \"u\"]\n",
        "\n",
        "# texto = input(\"Ingrese un texto: \")\n",
        "\n",
        "# contador = len([letra for letra in texto.lower() if letra in list_vocales])\n",
        "\n",
        "# print(f\"El texto tiene {contador} vocales\")\n",
        "\n",
        "vocales = lambda texto: len([letra for letra in texto.lower() if letra in list_vocales])\n",
        "vocales(\"Hola, cómo estás?\")\n"
      ],
      "metadata": {
        "colab": {
          "base_uri": "https://localhost:8080/"
        },
        "id": "gLNgqPveAaFD",
        "outputId": "984b85a1-8a72-457a-802d-a7a30aff3ed1"
      },
      "execution_count": null,
      "outputs": [
        {
          "output_type": "execute_result",
          "data": {
            "text/plain": [
              "4"
            ]
          },
          "metadata": {},
          "execution_count": 53
        }
      ]
    },
    {
      "cell_type": "markdown",
      "source": [
        "7. Crea una función que reciba una lista de números y retorne la suma total."
      ],
      "metadata": {
        "id": "BXyfeWmFAamb"
      }
    },
    {
      "cell_type": "code",
      "source": [
        "lista = [1, 2, 3, 4, 5]\n",
        "\n",
        "# def suma_lista(lista):\n",
        "#     return sum(lista)\n",
        "\n",
        "# suma_lista(lista)\n",
        "\n",
        "suma_lista = lambda lista: sum(lista)\n",
        "suma_lista(lista)"
      ],
      "metadata": {
        "colab": {
          "base_uri": "https://localhost:8080/"
        },
        "id": "LfiwLZY2BgWS",
        "outputId": "61b66099-c00c-4952-cf25-8f74f901b236"
      },
      "execution_count": null,
      "outputs": [
        {
          "output_type": "execute_result",
          "data": {
            "text/plain": [
              "15"
            ]
          },
          "metadata": {},
          "execution_count": 57
        }
      ]
    },
    {
      "cell_type": "markdown",
      "source": [
        "8. Crea una función que reciba una lista y retorne el mayor y el menor elemento."
      ],
      "metadata": {
        "id": "IpEweb-3Bfsb"
      }
    },
    {
      "cell_type": "code",
      "source": [
        "lista = [1, 2, 3, 4, 5]\n",
        "\n",
        "# def mayor_menor(lista):\n",
        "#     return f\"El mayor es {max(lista)} y el menor es {min(lista)}\"\n",
        "# mayor_menor(lista)\n",
        "\n",
        "mayor_menor = lambda lista: f\"El mayor es {max(lista)} y el menor es {min(lista)}\"\n",
        "mayor_menor(lista)"
      ],
      "metadata": {
        "colab": {
          "base_uri": "https://localhost:8080/",
          "height": 36
        },
        "id": "hbugKz0zBxSS",
        "outputId": "00ed6305-f3d0-492e-ab53-cde80c84a8f0"
      },
      "execution_count": null,
      "outputs": [
        {
          "output_type": "execute_result",
          "data": {
            "text/plain": [
              "'El mayor es 5 y el menor es 1'"
            ],
            "application/vnd.google.colaboratory.intrinsic+json": {
              "type": "string"
            }
          },
          "metadata": {},
          "execution_count": 58
        }
      ]
    },
    {
      "cell_type": "markdown",
      "source": [
        "9. Crea una función que reciba una lista y retorne una nueva lista con los elementos en orden inverso."
      ],
      "metadata": {
        "id": "UfVb0RG8B_55"
      }
    },
    {
      "cell_type": "code",
      "source": [
        "lista = [1, 2, 3, 4, 5]\n",
        "\n",
        "# def invertir_lista(lista):\n",
        "#     return lista[::-1]\n",
        "\n",
        "# invertir_lista(lista)\n",
        "lista_invertida = lambda lista: lista[::-1]\n",
        "lista_invertida(lista)"
      ],
      "metadata": {
        "colab": {
          "base_uri": "https://localhost:8080/"
        },
        "id": "4arOHr4UCDPi",
        "outputId": "be4b3f0c-77b4-49c9-fe04-cb8c7a0ca0c7"
      },
      "execution_count": null,
      "outputs": [
        {
          "output_type": "execute_result",
          "data": {
            "text/plain": [
              "[5, 4, 3, 2, 1]"
            ]
          },
          "metadata": {},
          "execution_count": 59
        }
      ]
    },
    {
      "cell_type": "markdown",
      "source": [
        "10. Crea una función que reciba una lista de nombres y retorne cuántos nombres comienzan con vocal."
      ],
      "metadata": {
        "id": "8Oc9JlfeCCjS"
      }
    },
    {
      "cell_type": "code",
      "source": [
        "lista = [\"Óscar\", \"Úrsula\", \"Emilia\", \"Esteban\", \"Isabel\", \"Ezequiel\", \"Alma\", \"Iker\", \"Abel\", \"Carlos\", \"Lucía\", \"Mateo\", \"Sofía\", \"Benjamín\", \"Daniela\", \"Tomás\", \"Noelia\"]\n",
        "\n",
        "def vocales(lista):\n",
        "  cales_con_tilde_mayus_minus = [\"a\", \"á\", \"e\", \"é\", \"i\", \"í\", \"o\", \"ó\", \"u\", \"ú\",\n",
        "                                 \"A\", \"Á\", \"E\", \"É\", \"I\", \"Í\", \"O\", \"Ó\", \"U\", \"Ú\"]\n",
        "  contador = len([nombre for nombre in lista if vocales in cales_con_tilde_mayus_minus])\n",
        "  return f\"Hay {contador} nombres que comienzan con vocal\"\n",
        "\n",
        "vocales(lista)\n"
      ],
      "metadata": {
        "colab": {
          "base_uri": "https://localhost:8080/",
          "height": 36
        },
        "id": "0BHHXbwUCLMR",
        "outputId": "ae06ed15-7b5b-4acc-e7e5-2ca6d1b251eb"
      },
      "execution_count": null,
      "outputs": [
        {
          "output_type": "execute_result",
          "data": {
            "text/plain": [
              "'Hay 0 nombres que comienzan con vocal'"
            ],
            "application/vnd.google.colaboratory.intrinsic+json": {
              "type": "string"
            }
          },
          "metadata": {},
          "execution_count": 46
        }
      ]
    },
    {
      "cell_type": "markdown",
      "source": [
        "Crea una función que reciba una lista y retorne otra lista sin elementos repetidos.\n",
        "Crea una función que reciba una lista de números y retorne solo los que son primos.\n",
        "Crea una función que reciba un diccionario con claves 'nombre' y 'edad', y retorne un mensaje con esos datos.\n",
        "Crea una función que reciba un diccionario de productos (clave: nombre, valor: precio) y retorne el total.\n",
        "Crea una función que reciba un diccionario de estudiantes (clave: nombre, valor: nota) y retorne el promedio.\n",
        "Crea una función que reciba un diccionario y un nombre, y retorne la nota si existe o 'no encontrado'.\n",
        "Crea una función que reciba un diccionario y retorne el nombre del estudiante con mayor nota.\n",
        "Crea una función que reciba un diccionario de productos y retorne los productos con precios mayores a un valor dado.\n",
        "Crea una función que reciba un diccionario de empleados (clave: nombre, valor: lista de horas trabajadas) y retorne el total de horas por empleado.\n",
        "Crea una función que reciba un diccionario anidado con datos de estudiantes (nombre → {'nota': x, 'edad': y}) y retorne el promedio de notas de los mayores de edad.\n"
      ],
      "metadata": {
        "id": "BQiTFOBHCKmR"
      }
    }
  ]
}