{
  "nbformat": 4,
  "nbformat_minor": 0,
  "metadata": {
    "colab": {
      "provenance": [],
      "authorship_tag": "ABX9TyOrD3X860DLYV18S3stu95S",
      "include_colab_link": true
    },
    "kernelspec": {
      "name": "python3",
      "display_name": "Python 3"
    },
    "language_info": {
      "name": "python"
    }
  },
  "cells": [
    {
      "cell_type": "markdown",
      "metadata": {
        "id": "view-in-github",
        "colab_type": "text"
      },
      "source": [
        "<a href=\"https://colab.research.google.com/github/kojeda603/ciencia_datos_2025/blob/main/02_Prueba_diagnostica.ipynb\" target=\"_parent\"><img src=\"https://colab.research.google.com/assets/colab-badge.svg\" alt=\"Open In Colab\"/></a>"
      ]
    },
    {
      "cell_type": "markdown",
      "source": [
        "##Parte 1: Estructuras de Decisión (10 ejercicios)"
      ],
      "metadata": {
        "id": "7b300bk0mTLI"
      }
    },
    {
      "cell_type": "markdown",
      "source": [
        "1\tEscribe un programa que reciba un número e indique si es positivo."
      ],
      "metadata": {
        "id": "9CpNfXn9mXwg"
      }
    },
    {
      "cell_type": "code",
      "source": [
        "num = int(input(\"Ingrese su numero\"))\n",
        "if num > 0:\n",
        "  print(\"El número es positivo\")\n",
        "else:\n",
        "  print(\"El número no es negativo\")\n"
      ],
      "metadata": {
        "colab": {
          "base_uri": "https://localhost:8080/"
        },
        "id": "YrWNAMvVme7C",
        "outputId": "d846be54-e80c-4dcb-f9d9-05245f905811"
      },
      "execution_count": null,
      "outputs": [
        {
          "output_type": "stream",
          "name": "stdout",
          "text": [
            "Ingrese su numero-3\n",
            "El número no es positivo\n"
          ]
        }
      ]
    },
    {
      "cell_type": "markdown",
      "source": [
        "2\tEscribe un programa que reciba una edad y determine si la persona es mayor de edad."
      ],
      "metadata": {
        "id": "Ec1kxdUPmbZx"
      }
    },
    {
      "cell_type": "code",
      "source": [
        "edad = int(input(\"Ingrese su edad\"))\n",
        "if edad >= 18:\n",
        "  print(\"Es mayor de edad\")\n",
        "else:\n",
        "  print(\"Es menor de edad\")"
      ],
      "metadata": {
        "id": "ywuCCVJEmehj"
      },
      "execution_count": null,
      "outputs": []
    },
    {
      "cell_type": "markdown",
      "source": [
        "3\tEscribe un programa que reciba dos números e imprima el mayor."
      ],
      "metadata": {
        "id": "bvNEAzUXnXAr"
      }
    },
    {
      "cell_type": "code",
      "source": [
        "n1 = float(input(\"Ingrese su primer numero\"))\n",
        "n2 = float(input(\"Ingrese su segundo numero\"))\n",
        "\n",
        "if n1 > n2:\n",
        "  print(f\"El numero mayor es {n1}\")\n",
        "else:\n",
        "  print(f\"El numero mayor es {n2}\")"
      ],
      "metadata": {
        "colab": {
          "base_uri": "https://localhost:8080/"
        },
        "id": "z2Ju6owDnbWE",
        "outputId": "9ed2afa9-1698-44dd-bc98-243e672505a8"
      },
      "execution_count": null,
      "outputs": [
        {
          "output_type": "stream",
          "name": "stdout",
          "text": [
            "Ingrese su primer numero4\n",
            "Ingrese su segundo numero7\n",
            "El numero mayor es 7.0\n"
          ]
        }
      ]
    },
    {
      "cell_type": "markdown",
      "source": [
        "4\tEscribe un programa que reciba una calificación (0-100) e indique si es Aprobado (>=60) o Reprobado.\n"
      ],
      "metadata": {
        "id": "_b4HUOCZnc8Z"
      }
    },
    {
      "cell_type": "code",
      "source": [
        "note = float(input(\"Ingrese su calificación\"))\n",
        "\n",
        "if note >= 60:\n",
        "  print(\"Aprobado\")\n",
        "else:\n",
        "  print(\"Reprobado\")"
      ],
      "metadata": {
        "colab": {
          "base_uri": "https://localhost:8080/"
        },
        "id": "XzmDXLPAneMg",
        "outputId": "647b805f-13bf-4752-d5f8-114f4f15de54"
      },
      "execution_count": null,
      "outputs": [
        {
          "output_type": "stream",
          "name": "stdout",
          "text": [
            "Ingrese su calificación59.9999\n",
            "Reprobado\n"
          ]
        }
      ]
    },
    {
      "cell_type": "markdown",
      "source": [
        "5\tEscribe un programa que determine si un número es par o impar.\n"
      ],
      "metadata": {
        "id": "sW6Yx-Abnewt"
      }
    },
    {
      "cell_type": "code",
      "source": [
        "n = int(input(\"Ingrese su numero\"))\n",
        "\n",
        "if n % 2 == 0 :\n",
        "  print(\"El numero es par\")\n",
        "else:\n",
        "  print(\"El numero es impar\")"
      ],
      "metadata": {
        "colab": {
          "base_uri": "https://localhost:8080/"
        },
        "id": "_glucYTOnf4q",
        "outputId": "07d9ae51-0f0e-4f93-f812-6e12d7ee9c4b"
      },
      "execution_count": null,
      "outputs": [
        {
          "output_type": "stream",
          "name": "stdout",
          "text": [
            "Ingrese su numero11\n",
            "El numero es impar\n"
          ]
        }
      ]
    },
    {
      "cell_type": "markdown",
      "source": [
        "6\tEscribe un programa que reciba tres números e imprima el mayor de los tres.\n"
      ],
      "metadata": {
        "id": "Jp2NZSCOngqb"
      }
    },
    {
      "cell_type": "code",
      "source": [
        "n1 = int(input(\"Ingrese su primer numero\"))\n",
        "n2 = int(input(\"Ingrese su segundo numero\"))\n",
        "n3 = int(input(\"Ingrese su tercer numero\"))\n",
        "\n",
        "list = [n1, n2, n3]\n",
        "\n",
        "print(f\"El numero mayor es {max(list)}\")"
      ],
      "metadata": {
        "colab": {
          "base_uri": "https://localhost:8080/"
        },
        "id": "hXQzotPfnhb8",
        "outputId": "37b2b37e-7406-43b2-b873-1622cd56ad58"
      },
      "execution_count": null,
      "outputs": [
        {
          "output_type": "stream",
          "name": "stdout",
          "text": [
            "Ingrese su primer numero10\n",
            "Ingrese su segundo numero2\n",
            "Ingrese su tercer numero1\n",
            "El numero mayor es 10\n"
          ]
        }
      ]
    },
    {
      "cell_type": "markdown",
      "source": [
        "7\tEscribe un programa que reciba un año e indique si es bisiesto."
      ],
      "metadata": {
        "id": "L__PKHPko0ZS"
      }
    },
    {
      "cell_type": "code",
      "source": [
        "year = int(input(\"Ingrese su año \"))\n",
        "\n",
        "if year % 4 == 0:\n",
        "  print(\"El año es bisiesto\")\n",
        "else:\n",
        "  print(\"El año no es bisiesto\")\n",
        "print (year % 4)"
      ],
      "metadata": {
        "colab": {
          "base_uri": "https://localhost:8080/"
        },
        "id": "1J1ASCKno4d7",
        "outputId": "ac080643-3e15-4394-f2a2-2f1bc9d51a56"
      },
      "execution_count": null,
      "outputs": [
        {
          "output_type": "stream",
          "name": "stdout",
          "text": [
            "Ingrese su año 4\n",
            "El año es bisiesto\n",
            "0\n"
          ]
        }
      ]
    },
    {
      "cell_type": "markdown",
      "source": [
        "8\tEscribe un programa que reciba una contraseña e indique si cumple con las siguientes reglas: más de 8 caracteres, contiene al menos un número y una letra mayúscula."
      ],
      "metadata": {
        "id": "NfQHyVaUo4wq"
      }
    },
    {
      "cell_type": "code",
      "source": [
        "cadena = input(\"Ingrese su contraseña \")\n",
        "lista_cadena = list(cadena)\n",
        "print(lista_cadena)\n",
        "numberlist = [\"0\",\"1\",\"2\",\"3\",\"4\",\"5\",\"6\",\"7\",\"8\",\"9\"]\n",
        "\n",
        "if len(lista_cadena) >= 8 and any(v.isupper() for v in lista_cadena) and any(v in numberlist for v in lista_cadena):\n",
        "  print(\"La contraseña es segura\")\n",
        "else:\n",
        "  print(\"La contraseña no es segura\")"
      ],
      "metadata": {
        "colab": {
          "base_uri": "https://localhost:8080/"
        },
        "id": "sT2WHFKIo-lp",
        "outputId": "43415d0f-bc95-41ed-da71-964d7d6e6733"
      },
      "execution_count": null,
      "outputs": [
        {
          "output_type": "stream",
          "name": "stdout",
          "text": [
            "Ingrese su contraseña HOLAaaaaaa1\n",
            "['H', 'O', 'L', 'A', 'a', 'a', 'a', 'a', 'a', 'a', '1']\n",
            "La contraseña es segura\n"
          ]
        }
      ]
    },
    {
      "cell_type": "markdown",
      "source": [
        "9\tEscribe un programa que lea un número e imprima “Fizz” si es divisible por 3, “Buzz” si es divisible por 5 y “FizzBuzz” si es divisible por ambos."
      ],
      "metadata": {
        "id": "pXjqH_rLo6PX"
      }
    },
    {
      "cell_type": "code",
      "source": [
        "num = int(input(\"Ingrese su numero \"))\n",
        "\n",
        "if num % 3 == 0 and num % 5 == 0:\n",
        "  print(\"FizzBuzz\")\n",
        "elif num % 3 == 0:\n",
        "  print(\"Fizz\")\n",
        "elif num % 5 == 0:\n",
        "  print(\"Buzz\")"
      ],
      "metadata": {
        "colab": {
          "base_uri": "https://localhost:8080/"
        },
        "id": "oEYRTfvonhsC",
        "outputId": "cd1f121d-7c07-416f-def2-a392eed0ac1c"
      },
      "execution_count": null,
      "outputs": [
        {
          "output_type": "stream",
          "name": "stdout",
          "text": [
            "Ingrese su numero 15\n",
            "FizzBuzz\n"
          ]
        }
      ]
    },
    {
      "cell_type": "markdown",
      "source": [
        "10\tEscribe un programa que simule un cajero automático: recibe el monto a retirar e imprime si la operación es posible en base al saldo disponible."
      ],
      "metadata": {
        "id": "HJrMAi9do9Qa"
      }
    },
    {
      "cell_type": "code",
      "source": [
        "\n",
        "saldoInical = float(input(\"Ingrese su abono: \"))\n",
        "\n",
        "retiro = float(input(\"ingrese cuanto desea retirar\"))\n",
        "saldoFinal = saldoInical - retiro\n",
        "if saldoFinal < 0:\n",
        "  print(\"No puede retirar esa cantidad\")\n",
        "else:\n",
        "  print(f\"Su saldo final es: {saldoFinal}\" )"
      ],
      "metadata": {
        "colab": {
          "base_uri": "https://localhost:8080/"
        },
        "id": "e8IXYz4QnhzX",
        "outputId": "3f5c6bfe-033a-492f-da83-8625152d8478"
      },
      "execution_count": null,
      "outputs": [
        {
          "output_type": "stream",
          "name": "stdout",
          "text": [
            "Ingrese su abono: 200\n",
            "ingrese cuanto desea retirar2\n",
            "Su saldo final es: 198.0\n"
          ]
        }
      ]
    },
    {
      "cell_type": "markdown",
      "source": [
        "##Parte 2: Estructuras de Repetición (10 ejercicios)"
      ],
      "metadata": {
        "id": "Pohq2fQipP-C"
      }
    },
    {
      "cell_type": "markdown",
      "source": [
        "1\tEscribe un programa que imprima los números del 1 al 10."
      ],
      "metadata": {
        "id": "isACIX5-wQ2F"
      }
    },
    {
      "cell_type": "code",
      "source": [
        "for i in range(1,11):\n",
        "  print(i)"
      ],
      "metadata": {
        "colab": {
          "base_uri": "https://localhost:8080/"
        },
        "id": "5shZ5UI3wZhO",
        "outputId": "5513e0d5-4094-4b66-95a7-c5a5879fcfcc"
      },
      "execution_count": null,
      "outputs": [
        {
          "output_type": "stream",
          "name": "stdout",
          "text": [
            "1\n",
            "2\n",
            "3\n",
            "4\n",
            "5\n",
            "6\n",
            "7\n",
            "8\n",
            "9\n",
            "10\n"
          ]
        }
      ]
    },
    {
      "cell_type": "markdown",
      "source": [
        "2\tEscribe un programa que sume los números del 1 al 100.\n"
      ],
      "metadata": {
        "id": "m8-9A8wUwN16"
      }
    },
    {
      "cell_type": "code",
      "source": [
        "a = 0\n",
        "a = sum(range(1,101))\n",
        "print(a)"
      ],
      "metadata": {
        "colab": {
          "base_uri": "https://localhost:8080/"
        },
        "id": "JX5-2ETBwK5X",
        "outputId": "f1718661-8370-47bc-80c0-a5fb102b7fb3"
      },
      "execution_count": null,
      "outputs": [
        {
          "output_type": "stream",
          "name": "stdout",
          "text": [
            "5050\n"
          ]
        }
      ]
    },
    {
      "cell_type": "markdown",
      "source": [
        "3\tEscribe un programa que imprima los múltiplos de 3 entre 1 y 30."
      ],
      "metadata": {
        "id": "WQgLYO6QwdY4"
      }
    },
    {
      "cell_type": "code",
      "source": [
        "for i in range(1,31):\n",
        "  if i % 3 == 0:\n",
        "    print(i)"
      ],
      "metadata": {
        "colab": {
          "base_uri": "https://localhost:8080/"
        },
        "id": "jyF2STx9xjKf",
        "outputId": "ccc5cd3d-4b3f-4759-a772-0c8a551ca829"
      },
      "execution_count": null,
      "outputs": [
        {
          "output_type": "stream",
          "name": "stdout",
          "text": [
            "3\n",
            "6\n",
            "9\n",
            "12\n",
            "15\n",
            "18\n",
            "21\n",
            "24\n",
            "27\n",
            "30\n"
          ]
        }
      ]
    },
    {
      "cell_type": "markdown",
      "source": [
        "4\tEscribe un programa que lea un número e imprima su tabla de multiplicar del 1 al 10."
      ],
      "metadata": {
        "id": "ycEj4x6yxjr2"
      }
    },
    {
      "cell_type": "code",
      "source": [
        "num = int(input(\"Ingrese su numero\"))\n",
        "\n",
        "for i in range(1,11):\n",
        "  print(f\"{i} x {num} = {i*num}\")"
      ],
      "metadata": {
        "colab": {
          "base_uri": "https://localhost:8080/"
        },
        "id": "smNrZIlpxrXL",
        "outputId": "d71f72dc-c03e-4280-ec5b-01d0bb295c36"
      },
      "execution_count": null,
      "outputs": [
        {
          "output_type": "stream",
          "name": "stdout",
          "text": [
            "Ingrese su numero4\n",
            "1 x 4 = 4\n",
            "2 x 4 = 8\n",
            "3 x 4 = 12\n",
            "4 x 4 = 16\n",
            "5 x 4 = 20\n",
            "6 x 4 = 24\n",
            "7 x 4 = 28\n",
            "8 x 4 = 32\n",
            "9 x 4 = 36\n",
            "10 x 4 = 40\n"
          ]
        }
      ]
    },
    {
      "cell_type": "markdown",
      "source": [
        "5\tEscribe un programa que pida 5 números al usuario y calcule el promedio.\n"
      ],
      "metadata": {
        "id": "w-6UMeFlxsjq"
      }
    },
    {
      "cell_type": "code",
      "source": [
        "numeros = []\n",
        "for i in range (5):\n",
        "    numero = int(input(f\"Ingrese el número {i+1}: \"))\n",
        "    numeros.append(numero)\n",
        "\n",
        "promedio = sum(numeros) / 5\n",
        "print(f\"El promedio de los números ingresados es: {promedio}\")"
      ],
      "metadata": {
        "colab": {
          "base_uri": "https://localhost:8080/"
        },
        "id": "JDLrb1Zjx-Pa",
        "outputId": "82274804-6b74-4432-9463-a06ff5d3fc8e"
      },
      "execution_count": null,
      "outputs": [
        {
          "output_type": "stream",
          "name": "stdout",
          "text": [
            "Ingrese el número 1: 20\n",
            "Ingrese el número 2: 20\n",
            "Ingrese el número 3: 20\n",
            "Ingrese el número 4: 20\n",
            "Ingrese el número 5: 20\n",
            "El promedio de los números ingresados es: 20.0\n"
          ]
        }
      ]
    },
    {
      "cell_type": "markdown",
      "source": [
        "6\tEscribe un programa que cuente cuántos números pares hay entre 1 y un número ingresado."
      ],
      "metadata": {
        "id": "oabgy5AJx-sI"
      }
    },
    {
      "cell_type": "code",
      "source": [
        "num = int(input(\"Ingrese su numero\"))\n",
        "list = []\n",
        "\n",
        "for i in range(1,num+1):\n",
        "  if i % 2 == 0:\n",
        "    list.append(i)\n",
        "\n",
        "print(f\"Hay {len(list)} numeros pares entre 1 y {num}\")"
      ],
      "metadata": {
        "colab": {
          "base_uri": "https://localhost:8080/"
        },
        "id": "7zNIDN-azbTZ",
        "outputId": "1b0478f6-b3ff-4417-9b5e-744436eb0d33"
      },
      "execution_count": null,
      "outputs": [
        {
          "output_type": "stream",
          "name": "stdout",
          "text": [
            "Ingrese su numero20\n",
            "Hay 10 numeros pares entre 1 y 20\n"
          ]
        }
      ]
    },
    {
      "cell_type": "markdown",
      "source": [
        "7\tEscribe un programa que solicite contraseñas hasta que el usuario ingrese una válida, formada por su apellido y la longitud de su apellido (“Espinosa8”, por ejemplo).\n"
      ],
      "metadata": {
        "id": "_4S-ZZDOzbtJ"
      }
    },
    {
      "cell_type": "code",
      "source": [
        "\n",
        "apellido = input(\"Ingrese su apellido \")\n",
        "passwordValidation = apellido + str(len(apellido))\n",
        "\n",
        "while True:\n",
        "  password = input(\"Ingrese su contraseña \")\n",
        "  if password == passwordValidation:\n",
        "    print(\"Contraseña válida\")\n",
        "    break\n",
        "  else:\n",
        "    print(\"Contraseña inválida\")\n",
        "\n"
      ],
      "metadata": {
        "colab": {
          "base_uri": "https://localhost:8080/"
        },
        "id": "0QrZ3_q305zX",
        "outputId": "f13956a2-28ad-44a4-acd5-f32707f35fb4"
      },
      "execution_count": null,
      "outputs": [
        {
          "output_type": "stream",
          "name": "stdout",
          "text": [
            "Ingrese su apellido ojeda\n",
            "Ingrese su contraseña ojeda5\n",
            "Contraseña válida\n"
          ]
        }
      ]
    },
    {
      "cell_type": "markdown",
      "source": [
        "8\tEscribe un programa que imprima los primeros n números de la serie de Fibonacci."
      ],
      "metadata": {
        "id": "I_1pR2qD05fQ"
      }
    },
    {
      "cell_type": "code",
      "source": [
        "def fibonacci(limit):\n",
        "    a, b = 0, 1\n",
        "    while a<limit:\n",
        "        yield a\n",
        "        a, b = b, a+b\n",
        "\n",
        "for num in fibonacci(10):\n",
        "    print(num)"
      ],
      "metadata": {
        "colab": {
          "base_uri": "https://localhost:8080/"
        },
        "id": "9Hw9KKB814zb",
        "outputId": "b1e2902b-4fb3-44e6-ccc7-039d1454c21a"
      },
      "execution_count": null,
      "outputs": [
        {
          "output_type": "stream",
          "name": "stdout",
          "text": [
            "0\n",
            "1\n",
            "1\n",
            "2\n",
            "3\n",
            "5\n",
            "8\n"
          ]
        }
      ]
    },
    {
      "cell_type": "markdown",
      "source": [
        "9\tEscribe un programa que determine si un número ingresado es primo."
      ],
      "metadata": {
        "id": "jybZpQYL18X7"
      }
    },
    {
      "cell_type": "code",
      "source": [],
      "metadata": {
        "id": "XxsRWE9T17iV"
      },
      "execution_count": null,
      "outputs": []
    },
    {
      "cell_type": "markdown",
      "source": [
        "10\tEscribe un programa que pida una cantidad y luego ingrese esa cantidad de números, imprima cuántos son positivos, negativos y ceros."
      ],
      "metadata": {
        "id": "OSsrMrVA3V5J"
      }
    },
    {
      "cell_type": "code",
      "source": [],
      "metadata": {
        "id": "xp_Kl_RG3VS1"
      },
      "execution_count": null,
      "outputs": []
    },
    {
      "cell_type": "markdown",
      "source": [
        "## Parte 3: Funciones y Tipos de Datos (20 ejercicios)"
      ],
      "metadata": {
        "id": "KIabqi3J4HTs"
      }
    },
    {
      "cell_type": "markdown",
      "source": [
        "1\tCrea una función que reciba un número y retorne su cuadrado."
      ],
      "metadata": {
        "id": "xpAaHdX04K44"
      }
    },
    {
      "cell_type": "code",
      "source": [
        "num = int(input(\"Ingrese su numero\"))\n",
        "\n",
        "def cuadrado(num):\n",
        "  return num**2\n",
        "\n",
        "print(cuadrado(num))"
      ],
      "metadata": {
        "colab": {
          "base_uri": "https://localhost:8080/"
        },
        "id": "QoUeQC0Q4MdJ",
        "outputId": "c8ca7f80-586d-449e-f247-e65e69cb8523"
      },
      "execution_count": null,
      "outputs": [
        {
          "output_type": "stream",
          "name": "stdout",
          "text": [
            "Ingrese su numero10\n",
            "100\n"
          ]
        }
      ]
    },
    {
      "cell_type": "markdown",
      "source": [
        "2\tCrea una función que reciba un nombre y retorne un saludo personalizado (ese saludo debe ser aleatorio. Para ello, genere al menos 20 saludos)."
      ],
      "metadata": {
        "id": "I3uoJf9A4TeQ"
      }
    },
    {
      "cell_type": "code",
      "source": [],
      "metadata": {
        "id": "S_yHWcyI4VzT"
      },
      "execution_count": null,
      "outputs": []
    }
  ]
}